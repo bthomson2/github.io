{
  "nbformat": 4,
  "nbformat_minor": 0,
  "metadata": {
    "colab": {
      "provenance": [],
      "authorship_tag": "ABX9TyPuZOtH0K7hslKRgyrJE9U9",
      "include_colab_link": true
    },
    "kernelspec": {
      "name": "python3",
      "display_name": "Python 3"
    },
    "language_info": {
      "name": "python"
    }
  },
  "cells": [
    {
      "cell_type": "markdown",
      "metadata": {
        "id": "view-in-github",
        "colab_type": "text"
      },
      "source": [
        "<a href=\"https://colab.research.google.com/github/bthomson2/github.io/blob/main/gemini_ads_doi_workflow.ipynb\" target=\"_parent\"><img src=\"https://colab.research.google.com/assets/colab-badge.svg\" alt=\"Open In Colab\"/></a>"
      ]
    },
    {
      "cell_type": "code",
      "execution_count": null,
      "metadata": {
        "id": "-IfusdTy_rKq"
      },
      "outputs": [],
      "source": []
    },
    {
      "cell_type": "markdown",
      "source": [
        "# Overview"
      ],
      "metadata": {
        "id": "5AcnP8yZTQbz"
      }
    },
    {
      "cell_type": "markdown",
      "source": [
        "Here’s a potential workflow:\n",
        "\n",
        "Set up Google Colab: You will be using a Google Colab notebook as the environment for your Python script [1, 2].\n",
        "Install Gemini API Libraries: You'll need to install the necessary Python libraries to interact with the Gemini API. This typically involves using pip install within the Colab notebook [3].\n",
        "Authenticate Gemini API: You will need to obtain and securely store your Gemini API key within Colab, possibly using the secrets tab [3, 4].\n",
        "Create a Prompt for ADS: You will need to construct a prompt that instructs Gemini to search the ADS website (https://ui.adsabs.harvard.edu/) for specific keywords.\n",
        "Call the Gemini API: Use the Python SDK to send the prompt to the chosen Gemini model (e.g., Gemini Pro, Gemini 2.0 Flash) [2]. You might need to explore the capabilities of different Gemini models to see which provides the best results for this task.\n",
        "Extract DOIs: Write code to parse the response from Gemini and extract the DOIs of the identified papers.\n",
        "Export to File: Implement functionality to save the extracted DOIs to a file (e.g., a CSV or TXT file).\n",
        "Open DOIs in Browser: Create a script that reads the DOIs from the file and opens a specified number of them in a web browser using Python's webbrowser module."
      ],
      "metadata": {
        "id": "mQXJmNAc_wJu"
      }
    },
    {
      "cell_type": "markdown",
      "source": [
        "# Get keywords from the user"
      ],
      "metadata": {
        "id": "EYSvET65TK5A"
      }
    },
    {
      "cell_type": "code",
      "source": [
        "# Get keywords as input from the user\n",
        "keywords = input(\"Enter the keywords to search on ADS (comma-separated): \")\n",
        "print(f\"You entered the following keywords: {keywords}\")\n",
        "\n",
        "\n",
        "# 4. Extracting the DOIs from the response\n",
        "# 5. Exporting the DOIs to a CSV file\n",
        "# 6. Opening the first 5 DOIs in a web browser"
      ],
      "metadata": {
        "id": "QujTMr3-_1vR"
      },
      "execution_count": null,
      "outputs": []
    },
    {
      "cell_type": "markdown",
      "source": [
        "# Setting up the Gemini API"
      ],
      "metadata": {
        "id": "ITQmMvKcTiFv"
      }
    },
    {
      "cell_type": "code",
      "source": [
        "# Install the Gemini API library\n",
        "!pip install -q google-generativeai\n",
        "\n",
        "# Import the necessary library\n",
        "import google.generativeai as genai\n",
        "\n",
        "# Configure the Gemini API key\n",
        "# You will need to obtain your API key from Google AI Studio (ai.google.dev)\n",
        "# and store it securely in Colab (e.g., using the Secrets tab)\n",
        "from google.colab import userdata\n",
        "try:\n",
        "    GOOGLE_API_KEY = userdata.get('GOOGLE_API_KEY')\n",
        "    genai.configure(api_key=GOOGLE_API_KEY)\n",
        "except KeyError:\n",
        "    print(\"Error: Please store your Gemini API key in Colab's Secrets tab as 'GOOGLE_API_KEY'\")\n",
        "    exit()\n",
        "\n",
        "# Select the Gemini model\n",
        "model = genai.GenerativeModel('gemini-2.0-flash') # Or 'gemini-pro'"
      ],
      "metadata": {
        "id": "Ua-CsrndBgFa"
      },
      "execution_count": null,
      "outputs": []
    },
    {
      "cell_type": "markdown",
      "source": [
        "# Construct the prompt and call Gemini API using the keywords"
      ],
      "metadata": {
        "id": "gZStaP1rTqNo"
      }
    },
    {
      "cell_type": "code",
      "source": [
        "# Construct the prompt for Gemini to search ADS\n",
        "prompt = f\"\"\"Search the NASA ADS database at https://ui.adsabs.harvard.edu/ for papers related to the following keywords: '{keywords}'.\n",
        "Return a list of the DOIs of the papers you find. If no DOIs are found, please indicate that.\n",
        "Only provide the list of DOIs or a statement indicating no DOIs were found.\"\"\"\n",
        "\n",
        "# Call the Gemini API\n",
        "try:\n",
        "    response = model.generate_content(prompt)\n",
        "    #response.raise_for_status() # Raise an exception for bad status codes\n",
        "    doi_results = response.text\n",
        "    print(\"Gemini's response:\")\n",
        "    print(doi_results)\n",
        "except Exception as e:\n",
        "    print(f\"An error occurred while calling the Gemini API: {e}\")\n",
        "    doi_results = \"\""
      ],
      "metadata": {
        "id": "yG08Sz9iBtER"
      },
      "execution_count": null,
      "outputs": []
    },
    {
      "cell_type": "code",
      "source": [
        "from google.colab import userdata\n",
        "userdata.get('ADS_API_KEY')"
      ],
      "metadata": {
        "id": "fiOn9qKxOUhk"
      },
      "execution_count": null,
      "outputs": []
    },
    {
      "cell_type": "markdown",
      "source": [
        "# Extract DOIs from response"
      ],
      "metadata": {
        "id": "4Ffwa8ZfiYEi"
      }
    },
    {
      "cell_type": "code",
      "source": [
        "import csv\n",
        "import re\n",
        "import webbrowser\n",
        "\n",
        "def extract_dois(text):\n",
        "    \"\"\"Extracts DOIs from a string using regular expressions.\"\"\"\n",
        "    doi_pattern = r'10\\.\\d{4,9}/[-._;()/:A-Z0-9]+'\n",
        "    dois = re.findall(doi_pattern, text, re.IGNORECASE)\n",
        "    return dois\n",
        "\n",
        "# Get keywords as input from the user\n",
        "keywords = input(\"Enter the keywords to search on ADS (comma-separated): \")\n",
        "print(f\"You entered the following keywords: {keywords}\")\n",
        "\n",
        "# Install the Gemini API library\n",
        "# Note: In Google Colab, you need to use ! before shell commands\n",
        "!pip install -q google-generativeai\n",
        "\n",
        "# Import the necessary library\n",
        "import google.generativeai as genai\n",
        "\n",
        "# Configure the Gemini API key\n",
        "# You will need to obtain your API key from Google AI Studio (ai.google.dev)\n",
        "# and store it securely in Colab (e.g., using the Secrets tab)\n",
        "from google.colab import userdata\n",
        "try:\n",
        "    GOOGLE_API_KEY = userdata.get('GOOGLE_API_KEY')\n",
        "    genai.configure(api_key=GOOGLE_API_KEY)\n",
        "except KeyError:\n",
        "    print(\"Error: Please store your Gemini API key in Colab's Secrets tab as 'GOOGLE_API_KEY'\")\n",
        "    exit()\n",
        "\n",
        "# Select the Gemini model\n",
        "model = genai.GenerativeModel('gemini-2.0-flash') # Or 'gemini-pro'\n",
        "\n",
        "# Construct the prompt for Gemini to search ADS\n",
        "prompt = f\"\"\"Search the NASA ADS database at https://ui.adsabs.harvard.edu/ for papers related to the following keywords: '{keywords}'.\n",
        "Return a list of the DOIs of the papers you find. If no DOIs are found, please indicate that.\n",
        "Only provide the list of DOIs or a statement indicating no DOIs were found.\"\"\"\n",
        "\n",
        "# Call the Gemini API\n",
        "try:\n",
        "    response = model.generate_content(prompt)\n",
        "    #response.raise_for_status() # Raise an exception for bad status codes\n",
        "    doi_results = response.text\n",
        "    print(\"Gemini's response:\")\n",
        "    print(doi_results)\n",
        "    dois = extract_dois(doi_results)  # Extract DOIs here\n",
        "\n",
        "except Exception as e:\n",
        "    print(f\"An error occurred while calling the Gemini API: {e}\")\n",
        "    dois = [] # Initialize dois even if there's an error\n",
        "\n",
        "if dois:\n",
        "    print(\"Extracted DOIs:\")\n",
        "    for doi in dois:\n",
        "        print(doi)\n",
        "\n",
        "    # Save the DOIs to a CSV file\n",
        "    csv_file_path = \"ads_dois.csv\"\n",
        "    try:\n",
        "        with open(csv_file_path, mode='w', newline='') as csvfile:\n",
        "            doi_writer = csv.writer(csvfile)\n",
        "            doi_writer.writerow(['DOI'])  # Write header\n",
        "            for doi in dois:\n",
        "                doi_writer.writerow([doi])\n",
        "        print(f\"\\nDOIs saved to {csv_file_path}\")\n",
        "\n",
        "        # Open the first 5 DOIs in a web browser\n",
        "        num_to_open = min(5, len(dois))\n",
        "        print(f\"\\nOpening the first {num_to_open} DOIs in your web browser:\")\n",
        "        for i in range(num_to_open):\n",
        "            url = f\"https://doi.org/{dois[i]}\"  # Construct the DOI URL\n",
        "            webbrowser.open_new_tab(url)\n",
        "\n",
        "    except Exception as e:\n",
        "        print(f\"An error occurred while saving to CSV or opening URLs: {e}\")\n",
        "\n",
        "else:\n",
        "    print(\"No DOIs found in Gemini's response.\")"
      ],
      "metadata": {
        "id": "49VD6CwQCXHd"
      },
      "execution_count": null,
      "outputs": []
    },
    {
      "cell_type": "markdown",
      "source": [
        "If using the NASA ADS API package, rather than Gemini searching ADS, use the code below."
      ],
      "metadata": {
        "id": "LXnpmUFVD0bf"
      }
    },
    {
      "cell_type": "code",
      "source": [
        "!pip install ads"
      ],
      "metadata": {
        "id": "BRqnzwWgD6Xw"
      },
      "execution_count": null,
      "outputs": []
    },
    {
      "cell_type": "code",
      "source": [
        "import ads\n",
        "import csv\n",
        "import webbrowser\n",
        "import os\n",
        "\n",
        "# Configure the ADS API token\n",
        "# You need to set the ADS_API_TOKEN environment variable\n",
        "# or create an .adsclirc file with the token.\n",
        "# See: https://ads.readthedocs.io/en/v1/config.html\n",
        "os.environ[\"ADS_API_KEY\"] = userdata.get(\"ADS_API_KEY\")\n",
        "\n",
        "\n",
        "\n",
        "# Get keywords as input from the user\n",
        "keywords_str = input(\"Enter the keywords to search on ADS (comma-separated): \")\n",
        "keywords = [kw.strip() for kw in keywords_str.split(',')]\n",
        "\n",
        "try:\n",
        "    # Search ADS for the keywords\n",
        "    papers = ads.SearchQuery(q=keywords)\n",
        "    dois = [paper.doi[0] for paper in papers if paper.doi]\n",
        "\n",
        "    if dois:\n",
        "        print(\"Found the following DOIs:\")\n",
        "        for doi in dois:\n",
        "            print(doi)\n",
        "\n",
        "        # Save the DOIs to a CSV file\n",
        "        csv_file_path = \"ads_dois.csv\"\n",
        "        with open(csv_file_path, mode='w', newline='') as csvfile:\n",
        "            doi_writer = csv.writer(csvfile)\n",
        "            doi_writer.writerow(['DOI'])  # Write header\n",
        "            for doi in dois:\n",
        "                doi_writer.writerow([doi])\n",
        "        print(f\"\\nDOIs saved to {csv_file_path}\")\n",
        "\n",
        "        # Open the first 5 DOIs in a web browser\n",
        "        num_to_open = min(5, len(dois))\n",
        "        print(f\"\\nOpening the first {num_to_open} DOIs in your web browser:\")\n",
        "        for i in range(num_to_open):\n",
        "            url = f\"https://doi.org/{dois[i]}\"\n",
        "            webbrowser.open_new_tab(url)\n",
        "\n",
        "    else:\n",
        "        print(\"No papers found for the given keywords.\")\n",
        "\n",
        "except ads.exceptions.APIQueryError as e:\n",
        "    print(f\"An error occurred while querying the ADS API: {e}\")"
      ],
      "metadata": {
        "id": "O9woYFyYD8jV"
      },
      "execution_count": null,
      "outputs": []
    }
  ]
}